{
 "cells": [
  {
   "cell_type": "code",
   "execution_count": 16,
   "metadata": {},
   "outputs": [],
   "source": [
    "import pandas as pd\n",
    "import matplotlib\n",
    "import matplotlib.pyplot as plt\n",
    "import numpy as np\n",
    "import seaborn as sns\n",
    "from sklearn.metrics import f1_score\n",
    "from sklearn.metrics import mean_squared_error\n",
    "from sklearn.metrics import r2_score\n",
    "from sklearn.linear_model import LogisticRegression\n",
    "from sklearn.linear_model import LinearRegression\n",
    "from imblearn.over_sampling import ADASYN\n",
    "from imblearn.over_sampling import BorderlineSMOTE\n",
    "from imblearn.over_sampling import SMOTE\n",
    "from sklearn import svm\n",
    "from sklearn.svm import SVR\n",
    "from sklearn.cluster import KMeans\n",
    "from sklearn.model_selection import train_test_split"
   ]
  },
  {
   "cell_type": "code",
   "execution_count": null,
   "metadata": {},
   "outputs": [
    {
     "name": "stdout",
     "output_type": "stream",
     "text": [
      "0     NaN\n",
      "1     4.0\n",
      "2    30.0\n",
      "3    43.0\n",
      "4    43.0\n",
      "5    15.0\n",
      "Name: Attractive Level, dtype: float64\n",
      "Original Data : \n"
     ]
    },
    {
     "data": {
      "image/png": "[encoded data removed]",
      "text/plain": [
       "<Figure size 432x288 with 1 Axes>"
      ]
     },
     "metadata": {
      "needs_background": "light"
     },
     "output_type": "display_data"
    }
   ],
   "source": [
    "filename = 'Annotation.xlsx'\n",
    "file = pd.read_excel(filename)\n",
    "print(file.apply(pd.Series.value_counts)['Attractive Level'].head(6))\n",
    "print(\"Original Data : \")\n",
    "plt.figure()\n",
    "plt.hist(file[\"Attractive Level\"])\n",
    "plt.show()\n"
   ]
  },
  {
   "cell_type": "code",
   "execution_count": null,
   "metadata": {},
   "outputs": [],
   "source": [
    "#Data Analysis\n",
    "vars = [\"Sound\", \"Music\", \"Noise control\", \"Speaking Style\", \"Camera\", \"Stable\", \"Angel diversity\", \"Images\", \"Resolution\", \"Color\", \"Content\", \"Introduction\", \"Food description\", \"Reviewer\", \"Reviewer emotion\", \"Recommendation\", \"Clear information\"]\n",
    "\n",
    "def corr(data, X, Y):\n",
    "  plt.figure()\n",
    "  print(X +  \" and \"+ Y)\n",
    "  for x in set(data[X]):\n",
    "    y = data[ data[X] == x][Y].mean()\n",
    "    plt.plot(x, y, 'ro')\n",
    "  plt.show()\n",
    "\n",
    "#for x in vars:\n",
    "#    corr(file, \"Attractive Level\", x)"
   ]
  },
  {
   "cell_type": "code",
   "execution_count": null,
   "metadata": {},
   "outputs": [],
   "source": [
    "#selected data\n",
    "vars = [\"Sound\", \"Music\", \"Noise control\", \"Speaking Style\", \"Camera\", \"Stable\", \"Angel diversity\", \"Images\", \"Color\", \"Content\", \"Introduction\", \"Food description\", \"Reviewer\", \"Reviewer emotion\", \"Recommendation\", \"Clear information\"]"
   ]
  },
  {
   "cell_type": "code",
   "execution_count": null,
   "metadata": {},
   "outputs": [],
   "source": [
    "#Solve imbalance data\n",
    "def smote(file, vars: list):\n",
    "    data1 = file[file['Attractive Level']==1]\n",
    "    file = data = pd.concat([file, data1],axis=0)\n",
    "    X = file[vars]\n",
    "    Y = file['Attractive Level']\n",
    "    oversample = SMOTE(random_state=42)\n",
    "    X, Y = oversample.fit_resample(X, Y)\n",
    "    data = pd.concat([X, Y],axis=1)\n",
    "    data_train, data_test= train_test_split(data, test_size = 0.2, shuffle=True)\n",
    "    X_train = data_train[vars]\n",
    "    Y_train = data_train['Attractive Level']\n",
    "    X_test = data_test[vars]\n",
    "    Y_test = data_test['Attractive Level']\n",
    "    return X_train, Y_train, X_test, Y_test"
   ]
  },
  {
   "cell_type": "markdown",
   "metadata": {},
   "source": [
    "linear Regresstion"
   ]
  },
  {
   "cell_type": "code",
   "execution_count": null,
   "metadata": {},
   "outputs": [
    {
     "name": "stdout",
     "output_type": "stream",
     "text": [
      "Original Data\n",
      "[2 3 3 3 3 4 3 3 3 4 4 5 2 2 5 1 4 2 5 2 3 5 4 3 5 3 4]\n",
      "[2.57890557 3.21522353 2.75278423 3.34909234 2.58521816 3.57588334\n",
      " 3.35334651 3.43677466 2.80490633 4.06129649 3.5430481  4.44395017\n",
      " 2.518382   2.68339495 4.92942051 1.63969431 4.10384615 2.24762243\n",
      " 4.90694133 2.89202867 3.06029248 4.59769122 2.9805392  2.77547957\n",
      " 4.72521312 2.88687423 3.93555387]\n",
      "R_quare (train): 0.8017191394796619\n",
      "R_quare (test): 0.8385667318239918\n",
      "F1 score (train): 0.6378582489577129\n",
      "F1 score (test): 0.5615873015873016\n",
      "Accuracy (train): 0.7685185185185185\n",
      "Accuracy (test): 0.7407407407407407\n"
     ]
    },
    {
     "ename": "NameError",
     "evalue": "name 'SMOTE' is not defined",
     "output_type": "error",
     "traceback": [
      "\u001b[1;31m---------------------------------------------------------------------------\u001b[0m",
      "\u001b[1;31mNameError\u001b[0m                                 Traceback (most recent call last)",
      "\u001b[1;32md:\\ACADEMIC\\AI5_FALL22\\AIL302m\\code\\AIL302m.ipynb Cell 7\u001b[0m in \u001b[0;36m<cell line: 41>\u001b[1;34m()\u001b[0m\n\u001b[0;32m     <a href='vscode-notebook-cell:/d%3A/ACADEMIC/AI5_FALL22/AIL302m/code/AIL302m.ipynb#W6sZmlsZQ%3D%3D?line=38'>39</a>\u001b[0m \u001b[39m# SMOTE\u001b[39;00m\n\u001b[0;32m     <a href='vscode-notebook-cell:/d%3A/ACADEMIC/AI5_FALL22/AIL302m/code/AIL302m.ipynb#W6sZmlsZQ%3D%3D?line=39'>40</a>\u001b[0m file \u001b[39m=\u001b[39m pd\u001b[39m.\u001b[39mread_excel(filename)\n\u001b[1;32m---> <a href='vscode-notebook-cell:/d%3A/ACADEMIC/AI5_FALL22/AIL302m/code/AIL302m.ipynb#W6sZmlsZQ%3D%3D?line=40'>41</a>\u001b[0m X_train, Y_train, X_test, Y_test \u001b[39m=\u001b[39m smote(file, \u001b[39mvars\u001b[39;49m)\n\u001b[0;32m     <a href='vscode-notebook-cell:/d%3A/ACADEMIC/AI5_FALL22/AIL302m/code/AIL302m.ipynb#W6sZmlsZQ%3D%3D?line=41'>42</a>\u001b[0m \u001b[39mprint\u001b[39m(\u001b[39m\"\u001b[39m\u001b[39mSMOTE\u001b[39m\u001b[39m\"\u001b[39m)\n\u001b[0;32m     <a href='vscode-notebook-cell:/d%3A/ACADEMIC/AI5_FALL22/AIL302m/code/AIL302m.ipynb#W6sZmlsZQ%3D%3D?line=42'>43</a>\u001b[0m linearRegression(X_train, Y_train, X_test, Y_test)\n",
      "\u001b[1;32md:\\ACADEMIC\\AI5_FALL22\\AIL302m\\code\\AIL302m.ipynb Cell 7\u001b[0m in \u001b[0;36msmote\u001b[1;34m(file, vars)\u001b[0m\n\u001b[0;32m      <a href='vscode-notebook-cell:/d%3A/ACADEMIC/AI5_FALL22/AIL302m/code/AIL302m.ipynb#W6sZmlsZQ%3D%3D?line=4'>5</a>\u001b[0m X \u001b[39m=\u001b[39m file[\u001b[39mvars\u001b[39m]\n\u001b[0;32m      <a href='vscode-notebook-cell:/d%3A/ACADEMIC/AI5_FALL22/AIL302m/code/AIL302m.ipynb#W6sZmlsZQ%3D%3D?line=5'>6</a>\u001b[0m Y \u001b[39m=\u001b[39m file[\u001b[39m'\u001b[39m\u001b[39mAttractive Level\u001b[39m\u001b[39m'\u001b[39m]\n\u001b[1;32m----> <a href='vscode-notebook-cell:/d%3A/ACADEMIC/AI5_FALL22/AIL302m/code/AIL302m.ipynb#W6sZmlsZQ%3D%3D?line=6'>7</a>\u001b[0m oversample \u001b[39m=\u001b[39m SMOTE(random_state\u001b[39m=\u001b[39m\u001b[39m42\u001b[39m)\n\u001b[0;32m      <a href='vscode-notebook-cell:/d%3A/ACADEMIC/AI5_FALL22/AIL302m/code/AIL302m.ipynb#W6sZmlsZQ%3D%3D?line=7'>8</a>\u001b[0m X, Y \u001b[39m=\u001b[39m oversample\u001b[39m.\u001b[39mfit_resample(X, Y)\n\u001b[0;32m      <a href='vscode-notebook-cell:/d%3A/ACADEMIC/AI5_FALL22/AIL302m/code/AIL302m.ipynb#W6sZmlsZQ%3D%3D?line=8'>9</a>\u001b[0m data \u001b[39m=\u001b[39m pd\u001b[39m.\u001b[39mconcat([X, Y],axis\u001b[39m=\u001b[39m\u001b[39m1\u001b[39m)\n",
      "\u001b[1;31mNameError\u001b[0m: name 'SMOTE' is not defined"
     ]
    }
   ],
   "source": [
    "#linear Regresstion\n",
    "def linearRegression(X_train, Y_train, X_test, Y_test):\n",
    "    lr = LinearRegression()\n",
    "    lr.fit(X_train, Y_train)\n",
    "    #print(lr.coef_)\n",
    "\n",
    "    prediction_test = lr.predict(X_test)\n",
    "    prediction_train = lr.predict(X_train)\n",
    "    print(np.array(Y_test))\n",
    "    print(prediction_test)\n",
    "    from sklearn.metrics import f1_score\n",
    "\n",
    "    print('R_quare (train):', r2_score(Y_train, prediction_train))\n",
    "    print('R_quare (test):', r2_score(Y_test, prediction_test))\n",
    "    print('F1 score (train):', f1_score(prediction_train.round(), Y_train.round(), average='macro'))\n",
    "    print('F1 score (test):', f1_score(prediction_test.round(), Y_test.round(), average='macro'))\n",
    "    #print('MSE:', mean_squared_error(Y_test, prediction))\n",
    "\n",
    "    def checkAcc(Y, prediction):\n",
    "      count = 0\n",
    "      Y = np.array(Y)\n",
    "      for i, rs in enumerate(list(prediction)):\n",
    "        if rs.round() == Y[i]:\n",
    "          count = count +1\n",
    "      return count/len(Y)\n",
    "    print(\"Accuracy (train): \"+ str(checkAcc(Y_train, prediction_train)))\n",
    "    print(\"Accuracy (test): \"+ str(checkAcc(Y_test, prediction_test)))\n",
    "\n",
    "# Original Data\n",
    "file = pd.read_excel(filename)\n",
    "data_train, data_test= train_test_split(file, test_size = 0.2, shuffle=True)\n",
    "X = data_train[vars]\n",
    "Y = data_train['Attractive Level']\n",
    "X_test = data_test[vars]\n",
    "Y_test = data_test['Attractive Level']\n",
    "print(\"Original Data\")\n",
    "linearRegression(X, Y, X_test, Y_test)\n",
    "\n",
    "# SMOTE\n",
    "file = pd.read_excel(filename)\n",
    "X_train, Y_train, X_test, Y_test = smote(file, vars)\n",
    "print(\"SMOTE\")\n",
    "linearRegression(X_train, Y_train, X_test, Y_test)"
   ]
  },
  {
   "cell_type": "markdown",
   "metadata": {},
   "source": [
    "Logistic Regression"
   ]
  },
  {
   "cell_type": "code",
   "execution_count": null,
   "metadata": {},
   "outputs": [],
   "source": [
    "#Logistic Regression\n",
    "\n",
    "dataLgR = pd.read_excel(filename)\n",
    "#transform data\n",
    "for i, y in enumerate(dataLgR[\"Attractive Level\"]):\n",
    "    if y == 1 or y ==2:\n",
    "      dataLgR[\"Attractive Level\"][i] = 0\n",
    "    else:\n",
    "      dataLgR[\"Attractive Level\"][i] = 1\n",
    "\n",
    "def logisticRegression(X, Y, X_test, Y_test):\n",
    "  lg = LogisticRegression()\n",
    "  lg.fit(X, Y)\n",
    "\n",
    "  prediction = lg.predict(X_test)\n",
    "  print(np.array(Y_test))\n",
    "  print(prediction)\n",
    "\n",
    "  print(\"Score (train): \"+ str(lg.score(X,Y )))\n",
    "  print(\"Score (test): \"+ str(lg.score(X_test, Y_test)))\n",
    "\n",
    "data_train, data_test= train_test_split(dataLgR, test_size = 0.2, shuffle=False)\n",
    "X = data_train[vars]\n",
    "Y = data_train['Attractive Level']\n",
    "X_test = data_test[vars]\n",
    "Y_test = data_test['Attractive Level']\n",
    "print(\"Original Data\")\n",
    "logisticRegression(X, Y, X_test, Y_test)\n",
    "\n",
    "X, Y, X_test, Y_test = smote(dataLgR, vars)\n",
    "print(\"SMOTE\")\n",
    "logisticRegression(X, Y, X_test, Y_test)"
   ]
  },
  {
   "cell_type": "markdown",
   "metadata": {},
   "source": [
    "Classification (using support vector machine)"
   ]
  },
  {
   "cell_type": "code",
   "execution_count": null,
   "metadata": {},
   "outputs": [],
   "source": [
    "#SVM\n",
    "def SVM(X, Y, X_test, Y_test):\n",
    "  svm = SVR(kernel = 'rbf')\n",
    "  svm.fit(X,Y)\n",
    "  print(\"Score (train): \"+ str(svm.score(X,Y )))\n",
    "  print(\"Score (test): \"+ str(svm.score(X_test, Y_test)))\n",
    "\n",
    "file = pd.read_excel(filename)\n",
    "data_train, data_test= train_test_split(file, test_size = 0.2, shuffle=False)\n",
    "X = data_train[vars]\n",
    "Y = data_train['Attractive Level']\n",
    "X_test = data_test[vars]\n",
    "Y_test = data_test['Attractive Level']\n",
    "print(\"Original Data\")\n",
    "SVM(X, Y, X_test, Y_test)\n",
    "print('SMOTE')\n",
    "X, Y, X_test, Y_test = smote(file, vars)\n",
    "SVM(X, Y, X_test, Y_test)"
   ]
  },
  {
   "cell_type": "markdown",
   "metadata": {},
   "source": [
    "k Mean"
   ]
  },
  {
   "cell_type": "code",
   "execution_count": null,
   "metadata": {},
   "outputs": [],
   "source": [
    "Data = pd.read_excel('Annotation.xlsx')\n",
    "varData = [\"Sound\", \"Music\", \"Noise control\", \"Speaking Style\", \"Camera\", \"Stable\", \"Angel diversity\", \"Images\", \"Resolution\", \"Color\", \"Content\", \"Food description\", \"Reviewer\", \"Reviewer emotion\", \"Recommendation\", \"Clear information\"]\n",
    "\n",
    "Cl_data = Data[varData]\n",
    "#elbow method\n",
    "K = range(2, 11)\n",
    "wss = []\n",
    "for k  in K:\n",
    "    kmeans = KMeans(n_clusters=k)\n",
    "    kmeans = kmeans.fit(Cl_data)\n",
    "    wss_iter =kmeans.inertia_\n",
    "    wss.append(wss_iter)\n",
    "sns.scatterplot(x=K, y=wss)"
   ]
  },
  {
   "cell_type": "code",
   "execution_count": null,
   "metadata": {},
   "outputs": [],
   "source": [
    "Cl_data = Data[['Sound', 'Camera', 'Images', 'Reviewer']]   \n",
    "kmeans = KMeans(n_clusters=4)\n",
    "kmeans = kmeans.fit(Cl_data)\n",
    "Cl_data[\"Attractive Level\"] = Data[['Attractive Level']]\n",
    "Cl_data[\"clusters\"] = kmeans.labels_\n",
    "Cl_data.groupby('clusters').agg(\n",
    "{\n",
    "    \"Attractive Level\": \"mean\",\n",
    "    \"Sound\" : 'mean', \n",
    "    \"Camera\"  : 'mean',  \n",
    "    \"Images\"  : 'mean', \n",
    "    \"Reviewer\" : 'mean' \n",
    "}\n",
    ").round()"
   ]
  }
 ],
 "metadata": {
  "kernelspec": {
   "display_name": "Python 3.10.4 64-bit (microsoft store)",
   "language": "python",
   "name": "python3"
  },
  "language_info": {
   "codemirror_mode": {
    "name": "ipython",
    "version": 3
   },
   "file_extension": ".py",
   "mimetype": "text/x-python",
   "name": "python",
   "nbconvert_exporter": "python",
   "pygments_lexer": "ipython3",
   "version": "3.10.4"
  },
  "orig_nbformat": 4,
  "vscode": {
   "interpreter": {
    "hash": "172e6554e756c0d3b0371fe77249fd400131ca3d15ecb48b07d90216d0bec449"
   }
  }
 },
 "nbformat": 4,
 "nbformat_minor": 2
}
