{
 "cells": [
  {
   "cell_type": "code",
   "execution_count": 1,
   "metadata": {},
   "outputs": [],
   "source": [
    "import pandas as pd\n",
    "import matplotlib\n",
    "import matplotlib.pyplot as plt\n",
    "import numpy as np\n",
    "import seaborn as sns\n",
    "from sklearn.metrics import f1_score\n",
    "from sklearn.metrics import mean_squared_error\n",
    "from sklearn.metrics import r2_score\n",
    "from sklearn.linear_model import LogisticRegression\n",
    "from sklearn.linear_model import LinearRegression\n",
    "from imblearn.over_sampling import ADASYN\n",
    "from imblearn.over_sampling import BorderlineSMOTE\n",
    "from imblearn.over_sampling import SMOTE\n",
    "from sklearn import svm\n",
    "from sklearn.svm import SVR\n",
    "from sklearn.cluster import KMeans\n",
    "from sklearn.model_selection import train_test_split"
   ]
  },
  {
   "cell_type": "code",
   "execution_count": 2,
   "metadata": {},
   "outputs": [
    {
     "name": "stdout",
     "output_type": "stream",
     "text": [
      "0     NaN\n",
      "1     4.0\n",
      "2    30.0\n",
      "3    43.0\n",
      "4    43.0\n",
      "5    15.0\n",
      "Name: Attractive Level, dtype: float64\n",
      "Original Data : \n"
     ]
    },
    {
     "data": {
      "image/png": "[encoded data removed]",
      "text/plain": [
       "<Figure size 432x288 with 1 Axes>"
      ]
     },
     "metadata": {
      "needs_background": "light"
     },
     "output_type": "display_data"
    }
   ],
   "source": [
    "filename = 'Annotation.xlsx'\n",
    "file = pd.read_excel(filename)\n",
    "print(file.apply(pd.Series.value_counts)['Attractive Level'].head(6))\n",
    "print(\"Original Data : \")\n",
    "plt.figure()\n",
    "plt.hist(file[\"Attractive Level\"])\n",
    "plt.show()\n"
   ]
  },
  {
   "cell_type": "code",
   "execution_count": 3,
   "metadata": {},
   "outputs": [],
   "source": [
    "#Data Analysis\n",
    "vars = [\"Sound\", \"Music\", \"Noise control\", \"Speaking Style\", \"Camera\", \"Stable\", \"Angel diversity\", \"Images\", \"Resolution\", \"Color\", \"Content\", \"Introduction\", \"Food description\", \"Reviewer\", \"Reviewer emotion\", \"Recommendation\", \"Clear information\"]\n",
    "\n",
    "def corr(data, X, Y):\n",
    "  plt.figure()\n",
    "  print(X +  \" and \"+ Y)\n",
    "  for x in set(data[X]):\n",
    "    y = data[ data[X] == x][Y].mean()\n",
    "    plt.plot(x, y, 'ro')\n",
    "  plt.show()\n",
    "\n",
    "#for x in vars:\n",
    "#    corr(file, \"Attractive Level\", x)"
   ]
  },
  {
   "cell_type": "code",
   "execution_count": 4,
   "metadata": {},
   "outputs": [],
   "source": [
    "#selected data\n",
    "vars = [\"Sound\", \"Music\", \"Noise control\", \"Speaking Style\", \"Camera\", \"Stable\", \"Angel diversity\", \"Images\", \"Color\", \"Content\", \"Introduction\", \"Food description\", \"Reviewer\", \"Reviewer emotion\", \"Recommendation\", \"Clear information\"]"
   ]
  },
  {
   "cell_type": "code",
   "execution_count": 5,
   "metadata": {},
   "outputs": [],
   "source": [
    "#Solve imbalance data\n",
    "def smote(file, vars: list):\n",
    "    data1 = file[file['Attractive Level']==1]\n",
    "    file = data = pd.concat([file, data1],axis=0)\n",
    "    X = file[vars]\n",
    "    Y = file['Attractive Level']\n",
    "    oversample = SMOTE(random_state=42)\n",
    "    X, Y = oversample.fit_resample(X, Y)\n",
    "    data = pd.concat([X, Y],axis=1)\n",
    "    data_train, data_test= train_test_split(data, test_size = 0.2, shuffle=True)\n",
    "    X_train = data_train[vars]\n",
    "    Y_train = data_train['Attractive Level']\n",
    "    X_test = data_test[vars]\n",
    "    Y_test = data_test['Attractive Level']\n",
    "    return X_train, Y_train, X_test, Y_test"
   ]
  },
  {
   "cell_type": "markdown",
   "metadata": {},
   "source": [
    "linear Regresstion"
   ]
  },
  {
   "cell_type": "code",
   "execution_count": 6,
   "metadata": {},
   "outputs": [
    {
     "name": "stdout",
     "output_type": "stream",
     "text": [
      "Original Data\n",
      "[2 3 4 3 4 2 4 2 4 3 3 1 4 2 4 2 5 3 3 5 3 2 2 5 5 2 4]\n",
      "[2.40887439 1.56672187 4.29979985 2.96796836 4.03962205 1.731328\n",
      " 4.33550792 2.73882976 4.02123263 2.0023589  3.29816546 2.43782031\n",
      " 3.32080682 3.17394781 3.65328759 3.0440579  5.01088772 2.68953491\n",
      " 2.97987363 4.83080871 3.6111167  2.28007715 2.55910301 5.00321652\n",
      " 4.85679515 2.94193716 3.59237139]\n",
      "R_quare (train): 0.8358053077380801\n",
      "R_quare (test): 0.6710044945334541\n",
      "F1 score (train): 0.7973761140819965\n",
      "F1 score (test): 0.5512605042016807\n",
      "Accuracy (train): 0.7962962962962963\n",
      "Accuracy (test): 0.6296296296296297\n",
      "SMOTE\n",
      "[4 1 3 3 3 3 1 3 1 2 4 3 2 5 5 2 3 1 5 3 5 3 2 4 4 1 2 4 4 3 5 2 4 5 4 1 2\n",
      " 5 5 5 3 2 5]\n",
      "[2.91997304 1.49062212 2.84947752 1.79784186 3.02439117 2.72787088\n",
      " 1.2571251  2.65962418 1.28909603 2.35939136 3.30519064 3.00734477\n",
      " 2.01444425 5.04303822 5.04303822 1.36014922 2.65895294 1.28909603\n",
      " 4.70126996 3.06096386 5.12739372 2.72170569 1.84457361 4.01853762\n",
      " 5.10683001 1.15403616 2.45168579 4.00780196 3.63753388 2.7155262\n",
      " 4.70126996 1.81260268 3.55455131 4.67283879 4.78815054 1.87506298\n",
      " 2.60068861 4.70126996 5.077092   5.04512107 3.38736769 1.99388709\n",
      " 4.98032575]\n",
      "R_quare (train): 0.9168806276723345\n",
      "R_quare (test): 0.8886538093178686\n",
      "F1 score (train): 0.7857457372780214\n",
      "F1 score (test): 0.7984848484848486\n",
      "Accuracy (train): 0.7848837209302325\n",
      "Accuracy (test): 0.813953488372093\n"
     ]
    }
   ],
   "source": [
    "#linear Regresstion\n",
    "def linearRegression(X_train, Y_train, X_test, Y_test):\n",
    "    lr = LinearRegression()\n",
    "    lr.fit(X_train, Y_train)\n",
    "    #print(lr.coef_)\n",
    "\n",
    "    prediction_test = lr.predict(X_test)\n",
    "    prediction_train = lr.predict(X_train)\n",
    "    print(np.array(Y_test))\n",
    "    print(prediction_test)\n",
    "    from sklearn.metrics import f1_score\n",
    "\n",
    "    print('R_quare (train):', r2_score(Y_train, prediction_train))\n",
    "    print('R_quare (test):', r2_score(Y_test, prediction_test))\n",
    "    print('F1 score (train):', f1_score(prediction_train.round(), Y_train.round(), average='macro'))\n",
    "    print('F1 score (test):', f1_score(prediction_test.round(), Y_test.round(), average='macro'))\n",
    "    #print('MSE:', mean_squared_error(Y_test, prediction))\n",
    "\n",
    "    def checkAcc(Y, prediction):\n",
    "      count = 0\n",
    "      Y = np.array(Y)\n",
    "      for i, rs in enumerate(list(prediction)):\n",
    "        if rs.round() == Y[i]:\n",
    "          count = count +1\n",
    "      return count/len(Y)\n",
    "    print(\"Accuracy (train): \"+ str(checkAcc(Y_train, prediction_train)))\n",
    "    print(\"Accuracy (test): \"+ str(checkAcc(Y_test, prediction_test)))\n",
    "\n",
    "# Original Data\n",
    "file = pd.read_excel(filename)\n",
    "data_train, data_test= train_test_split(file, test_size = 0.2, shuffle=True)\n",
    "X = data_train[vars]\n",
    "Y = data_train['Attractive Level']\n",
    "X_test = data_test[vars]\n",
    "Y_test = data_test['Attractive Level']\n",
    "print(\"Original Data\")\n",
    "linearRegression(X, Y, X_test, Y_test)\n",
    "\n",
    "# SMOTE\n",
    "file = pd.read_excel(filename)\n",
    "X_train, Y_train, X_test, Y_test = smote(file, vars)\n",
    "print(\"SMOTE\")\n",
    "linearRegression(X_train, Y_train, X_test, Y_test)"
   ]
  },
  {
   "cell_type": "markdown",
   "metadata": {},
   "source": [
    "Logistic Regression"
   ]
  },
  {
   "cell_type": "code",
   "execution_count": 7,
   "metadata": {},
   "outputs": [
    {
     "name": "stdout",
     "output_type": "stream",
     "text": [
      "Original Data\n",
      "[1 1 0 0 1 1 1 1 0 1 1 1 1 0 1 1 0 1 1 0 1 0 1 1 1 0 1]\n",
      "[1 1 0 0 1 1 1 1 1 1 1 1 1 1 1 1 1 1 1 0 1 0 1 1 1 1 1]\n",
      "Score (train): 0.8703703703703703\n",
      "Score (test): 0.8518518518518519\n",
      "SMOTE\n",
      "[1 0 0 0 1 0 0 0 1 0 0 1 1 0 1 1 0 0 1 1 1 0 1 1 1 0 0 0 1 0 1 1 1 1 1 0 1\n",
      " 1 0 1 1 0 0 1 0 1 1 1 1 0 1 0 1 0 1 0 0 0 0 0 1 1 0 1 0 0 0 0 1 0 0 1 0 0\n",
      " 0 1 0 1 1 0 0]\n",
      "[1 0 0 0 1 0 1 0 0 0 0 1 1 0 1 1 0 0 1 1 0 0 1 1 1 0 0 0 1 0 1 1 1 1 1 0 1\n",
      " 1 0 1 1 0 0 1 0 1 1 1 1 0 0 0 0 0 1 0 0 0 0 0 1 1 0 1 0 0 0 0 1 0 0 1 0 0\n",
      " 0 1 0 1 1 0 0]\n",
      "Score (train): 0.9504643962848297\n",
      "Score (test): 0.9382716049382716\n"
     ]
    },
    {
     "name": "stderr",
     "output_type": "stream",
     "text": [
      "C:\\Users\\Maxsys\\AppData\\Local\\Temp\\ipykernel_18212\\2625610487.py:9: SettingWithCopyWarning: \n",
      "A value is trying to be set on a copy of a slice from a DataFrame\n",
      "\n",
      "See the caveats in the documentation: https://pandas.pydata.org/pandas-docs/stable/user_guide/indexing.html#returning-a-view-versus-a-copy\n",
      "  dataLgR[\"Attractive Level\"][i] = 1\n",
      "C:\\Users\\Maxsys\\AppData\\Local\\Temp\\ipykernel_18212\\2625610487.py:7: SettingWithCopyWarning: \n",
      "A value is trying to be set on a copy of a slice from a DataFrame\n",
      "\n",
      "See the caveats in the documentation: https://pandas.pydata.org/pandas-docs/stable/user_guide/indexing.html#returning-a-view-versus-a-copy\n",
      "  dataLgR[\"Attractive Level\"][i] = 0\n"
     ]
    }
   ],
   "source": [
    "#Logistic Regression\n",
    "\n",
    "dataLgR = pd.read_excel(filename)\n",
    "#transform data\n",
    "for i, y in enumerate(dataLgR[\"Attractive Level\"]):\n",
    "    if y == 1 or y ==2:\n",
    "      dataLgR[\"Attractive Level\"][i] = 0\n",
    "    else:\n",
    "      dataLgR[\"Attractive Level\"][i] = 1\n",
    "\n",
    "def logisticRegression(X, Y, X_test, Y_test):\n",
    "  lg = LogisticRegression()\n",
    "  lg.fit(X, Y)\n",
    "\n",
    "  prediction = lg.predict(X_test)\n",
    "  print(np.array(Y_test))\n",
    "  print(prediction)\n",
    "\n",
    "  print(\"Score (train): \"+ str(lg.score(X,Y )))\n",
    "  print(\"Score (test): \"+ str(lg.score(X_test, Y_test)))\n",
    "\n",
    "data_train, data_test= train_test_split(dataLgR, test_size = 0.2, shuffle=False)\n",
    "X = data_train[vars]\n",
    "Y = data_train['Attractive Level']\n",
    "X_test = data_test[vars]\n",
    "Y_test = data_test['Attractive Level']\n",
    "print(\"Original Data\")\n",
    "logisticRegression(X, Y, X_test, Y_test)\n",
    "\n",
    "X, Y, X_test, Y_test = smote(dataLgR, vars)\n",
    "print(\"SMOTE\")\n",
    "logisticRegression(X, Y, X_test, Y_test)"
   ]
  },
  {
   "cell_type": "markdown",
   "metadata": {},
   "source": [
    "Classification (using support vector machine)"
   ]
  },
  {
   "cell_type": "code",
   "execution_count": 8,
   "metadata": {},
   "outputs": [
    {
     "name": "stdout",
     "output_type": "stream",
     "text": [
      "Original Data\n",
      "Score (train): 0.8355509158232041\n",
      "Score (test): 0.7636327653268341\n",
      "SMOTE\n",
      "Score (train): 0.9187881734613834\n",
      "Score (test): 0.9556478237654589\n"
     ]
    }
   ],
   "source": [
    "#SVM\n",
    "def SVM(X, Y, X_test, Y_test):\n",
    "  svm = SVR(kernel = 'rbf')\n",
    "  svm.fit(X,Y)\n",
    "  print(\"Score (train): \"+ str(svm.score(X,Y )))\n",
    "  print(\"Score (test): \"+ str(svm.score(X_test, Y_test)))\n",
    "\n",
    "file = pd.read_excel(filename)\n",
    "data_train, data_test= train_test_split(file, test_size = 0.2, shuffle=False)\n",
    "X = data_train[vars]\n",
    "Y = data_train['Attractive Level']\n",
    "X_test = data_test[vars]\n",
    "Y_test = data_test['Attractive Level']\n",
    "print(\"Original Data\")\n",
    "SVM(X, Y, X_test, Y_test)\n",
    "print('SMOTE')\n",
    "X, Y, X_test, Y_test = smote(file, vars)\n",
    "SVM(X, Y, X_test, Y_test)"
   ]
  },
  {
   "cell_type": "markdown",
   "metadata": {},
   "source": [
    "k Mean"
   ]
  },
  {
   "cell_type": "code",
   "execution_count": 9,
   "metadata": {},
   "outputs": [
    {
     "data": {
      "text/plain": [
       "<AxesSubplot:>"
      ]
     },
     "execution_count": 9,
     "metadata": {},
     "output_type": "execute_result"
    },
    {
     "data": {
      "image/png": "[encoded data removed]",
      "text/plain": [
       "<Figure size 432x288 with 1 Axes>"
      ]
     },
     "metadata": {
      "needs_background": "light"
     },
     "output_type": "display_data"
    }
   ],
   "source": [
    "Data = pd.read_excel('Annotation.xlsx')\n",
    "varData = [\"Sound\", \"Music\", \"Noise control\", \"Speaking Style\", \"Camera\", \"Stable\", \"Angel diversity\", \"Images\", \"Resolution\", \"Color\", \"Content\", \"Food description\", \"Reviewer\", \"Reviewer emotion\", \"Recommendation\", \"Clear information\"]\n",
    "\n",
    "Cl_data = Data[varData]\n",
    "#elbow method\n",
    "K = range(2, 11)\n",
    "wss = []\n",
    "for k  in K:\n",
    "    kmeans = KMeans(n_clusters=k)\n",
    "    kmeans = kmeans.fit(Cl_data)\n",
    "    wss_iter =kmeans.inertia_\n",
    "    wss.append(wss_iter)\n",
    "sns.scatterplot(x=K, y=wss)"
   ]
  },
  {
   "cell_type": "code",
   "execution_count": 10,
   "metadata": {},
   "outputs": [
    {
     "name": "stderr",
     "output_type": "stream",
     "text": [
      "C:\\Users\\Maxsys\\AppData\\Local\\Temp\\ipykernel_18212\\3493126882.py:4: SettingWithCopyWarning: \n",
      "A value is trying to be set on a copy of a slice from a DataFrame.\n",
      "Try using .loc[row_indexer,col_indexer] = value instead\n",
      "\n",
      "See the caveats in the documentation: https://pandas.pydata.org/pandas-docs/stable/user_guide/indexing.html#returning-a-view-versus-a-copy\n",
      "  Cl_data[\"Attractive Level\"] = Data[['Attractive Level']]\n",
      "C:\\Users\\Maxsys\\AppData\\Local\\Temp\\ipykernel_18212\\3493126882.py:5: SettingWithCopyWarning: \n",
      "A value is trying to be set on a copy of a slice from a DataFrame.\n",
      "Try using .loc[row_indexer,col_indexer] = value instead\n",
      "\n",
      "See the caveats in the documentation: https://pandas.pydata.org/pandas-docs/stable/user_guide/indexing.html#returning-a-view-versus-a-copy\n",
      "  Cl_data[\"clusters\"] = kmeans.labels_\n"
     ]
    },
    {
     "data": {
      "text/html": [
       "<div>\n",
       "<style scoped>\n",
       "    .dataframe tbody tr th:only-of-type {\n",
       "        vertical-align: middle;\n",
       "    }\n",
       "\n",
       "    .dataframe tbody tr th {\n",
       "        vertical-align: top;\n",
       "    }\n",
       "\n",
       "    .dataframe thead th {\n",
       "        text-align: right;\n",
       "    }\n",
       "</style>\n",
       "<table border=\"1\" class=\"dataframe\">\n",
       "  <thead>\n",
       "    <tr style=\"text-align: right;\">\n",
       "      <th></th>\n",
       "      <th>Attractive Level</th>\n",
       "      <th>Sound</th>\n",
       "      <th>Camera</th>\n",
       "      <th>Images</th>\n",
       "      <th>Reviewer</th>\n",
       "    </tr>\n",
       "    <tr>\n",
       "      <th>clusters</th>\n",
       "      <th></th>\n",
       "      <th></th>\n",
       "      <th></th>\n",
       "      <th></th>\n",
       "      <th></th>\n",
       "    </tr>\n",
       "  </thead>\n",
       "  <tbody>\n",
       "    <tr>\n",
       "      <th>0</th>\n",
       "      <td>5.0</td>\n",
       "      <td>5.0</td>\n",
       "      <td>5.0</td>\n",
       "      <td>5.0</td>\n",
       "      <td>5.0</td>\n",
       "    </tr>\n",
       "    <tr>\n",
       "      <th>1</th>\n",
       "      <td>3.0</td>\n",
       "      <td>3.0</td>\n",
       "      <td>3.0</td>\n",
       "      <td>3.0</td>\n",
       "      <td>3.0</td>\n",
       "    </tr>\n",
       "    <tr>\n",
       "      <th>2</th>\n",
       "      <td>4.0</td>\n",
       "      <td>4.0</td>\n",
       "      <td>4.0</td>\n",
       "      <td>4.0</td>\n",
       "      <td>4.0</td>\n",
       "    </tr>\n",
       "    <tr>\n",
       "      <th>3</th>\n",
       "      <td>2.0</td>\n",
       "      <td>3.0</td>\n",
       "      <td>3.0</td>\n",
       "      <td>3.0</td>\n",
       "      <td>2.0</td>\n",
       "    </tr>\n",
       "  </tbody>\n",
       "</table>\n",
       "</div>"
      ],
      "text/plain": [
       "          Attractive Level  Sound  Camera  Images  Reviewer\n",
       "clusters                                                   \n",
       "0                      5.0    5.0     5.0     5.0       5.0\n",
       "1                      3.0    3.0     3.0     3.0       3.0\n",
       "2                      4.0    4.0     4.0     4.0       4.0\n",
       "3                      2.0    3.0     3.0     3.0       2.0"
      ]
     },
     "execution_count": 10,
     "metadata": {},
     "output_type": "execute_result"
    }
   ],
   "source": [
    "Cl_data = Data[['Sound', 'Camera', 'Images', 'Reviewer']]   \n",
    "kmeans = KMeans(n_clusters=4)\n",
    "kmeans = kmeans.fit(Cl_data)\n",
    "Cl_data[\"Attractive Level\"] = Data[['Attractive Level']]\n",
    "Cl_data[\"clusters\"] = kmeans.labels_\n",
    "Cl_data.groupby('clusters').agg(\n",
    "{\n",
    "    \"Attractive Level\": \"mean\",\n",
    "    \"Sound\" : 'mean', \n",
    "    \"Camera\"  : 'mean',  \n",
    "    \"Images\"  : 'mean', \n",
    "    \"Reviewer\" : 'mean' \n",
    "}\n",
    ").round()"
   ]
  }
 ],
 "metadata": {
  "kernelspec": {
   "display_name": "Python 3.10.4 64-bit (microsoft store)",
   "language": "python",
   "name": "python3"
  },
  "language_info": {
   "codemirror_mode": {
    "name": "ipython",
    "version": 3
   },
   "file_extension": ".py",
   "mimetype": "text/x-python",
   "name": "python",
   "nbconvert_exporter": "python",
   "pygments_lexer": "ipython3",
   "version": "3.10.4"
  },
  "orig_nbformat": 4,
  "vscode": {
   "interpreter": {
    "hash": "172e6554e756c0d3b0371fe77249fd400131ca3d15ecb48b07d90216d0bec449"
   }
  }
 },
 "nbformat": 4,
 "nbformat_minor": 2
}
